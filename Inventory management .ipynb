{
 "cells": [
  {
   "cell_type": "code",
   "execution_count": 45,
   "id": "8b3a6ee2",
   "metadata": {
    "scrolled": true
   },
   "outputs": [],
   "source": [
    "# create a file with some text and open it with file\n",
    "file=open(\"info.txt\",\"w\")\n",
    "file.write(\"1,milkybar,10,25\\n2,chocobar,13,45\\n3,kinderjoy,50,16\\n4,diarymilk,60,20\")\n",
    "file.close()\n",
    "\n",
    "        \n",
    "   \n",
    "    \n",
    "\n",
    "    \n",
    "\n",
    "\n",
    "\n",
    "\n"
   ]
  },
  {
   "cell_type": "code",
   "execution_count": 47,
   "id": "976029e8",
   "metadata": {
    "scrolled": false
   },
   "outputs": [
    {
     "name": "stdout",
     "output_type": "stream",
     "text": [
      "Enter the user name:1\n",
      "Enter the user phone no:1\n",
      "Enter the user email id:ss9599@srmist.edu.in\n",
      "Enter the product Id:1\n",
      "Enter the product Quantity required:1\n",
      "--------------------------------------------------\n",
      "Product Name        : milkybar\n",
      "Product Price       : 10\n",
      "Product Quantiity   : 1\n",
      "--------------------------------------------------\n",
      "Total price         : 10\n",
      "--------------------------------------------------\n"
     ]
    }
   ],
   "source": [
    "# create a file with some text and open it with file\n",
    "file=open(\"info.txt\",\"w\")\n",
    "file.write(\"1,milkybar,10,25\\n2,chocobar,13,45\\n3,kinderjoy,50,16\\n4,diarymilk,60,20\")\n",
    "file.close()\n",
    "\n",
    "file=open(\"info.txt\",\"r\")\n",
    "\n",
    "#we can know the no. of elements with this\n",
    "x=(file.read().split(\"\\n\"))\n",
    "# print(x)\n",
    "\n",
    "# to make a simple bill from the product the user choose\n",
    "user_name=str(input(\"Enter the user name:\"))\n",
    "user_phone_no=(input(\"Enter the user phone no:\"))\n",
    "user_email_id=str(input(\"Enter the user email id:\"))\n",
    "user_io_id=int(input(\"Enter the product Id:\"))\n",
    "\n",
    "user_produc_quantity=int((input(\"Enter the product Quantity required:\")))\n",
    "for product in x:\n",
    "    details=product.split(',')\n",
    "    if (details[0]==str(user_io_id)):\n",
    "        updated_file=[]\n",
    "        if (user_produc_quantity<=int(details[3])):\n",
    "            print(\"-\"*50)\n",
    "            print(\"Product Name        :\",details[1])\n",
    "            print(\"Product Price       :\",details[2])\n",
    "            print(\"Product Quantiity   :\",user_produc_quantity)\n",
    "            print(\"-\"*50)\n",
    "            print(\"Total price         :\",user_produc_quantity*int(details[2]))\n",
    "            print(\"-\"*50)\n",
    "            details[3]=str(int(details[3])-int (user_produc_quantity))\n",
    "            file=open(\"Sales.txt\",\"a\")\n",
    "            sales_detail=user_name+\",\"+str(user_phone_no)+\",\"+user_email_id+\",\"+str(user_io_id )+\",\"+str(details[1])+\",\"+str(details[2])+\",\"+str(user_produc_quantity)+\",\"+str(user_produc_quantity*int(details[2]))\n",
    "            file.write(sales_detail)\n",
    "            file.close()\n",
    "        else:\n",
    "            print((\"Sorry,we are currently out of stock for \")+details[1]+(\"\\nwe only have \")+details[3])\n",
    "            X=str(input(\"Do you like to purchase it(YES|NO):\"))\n",
    "            if(X==\"yes\"or\"YES\"):\n",
    "                 print(\"-\"*50)\n",
    "                 print(\"Product Name        :\",details[1])\n",
    "                 print(\"Product Price       :\",details[2])\n",
    "                 print(\"Product Quantiity   :\",details[3])\n",
    "                 print(\"-\"*50)\n",
    "                 print(\"Total price         :\",int(details[3])*int(details[2]))\n",
    "                 print(\"-\"*50)\n",
    "                 details[3] =0\n",
    "                 file=open(\"Sales.txt\",\"a\")\n",
    "                 sales_detail=user_name+\",\"+str(user_phone_no)+\",\"+user_email_id+\",\"+str(user_io_id )+\",\"+str(details[1])+\",\"+str(details[2])+\",\"+str(details[3])+\",\"+str(int(details[3])*int(details[2]))\n",
    "                 file.write(sales_detail)\n",
    "                 file.close()\n",
    "                \n",
    "            else:\n",
    "                print(\"thankyou\")\n",
    "    updated_file.append(details)\n",
    "file.close()\n",
    "# Modify the last element in the list to remove the newline character\n",
    "# if updated_file:\n",
    "#     updated_file[-1][-1] = updated_file[-1][-1][:-1]\n",
    "\n",
    "# # Open the file for writing and write the updated details\n",
    "# file = open('info.txt', 'w')\n",
    "# for i in updated_file:\n",
    "#     file.write(','.join(i) + '\\n')\n",
    "\n",
    "# file.close()\n",
    "lst=[]\n",
    "file=open(\"info.txt\",\"w\")\n",
    "for i in updated_file:\n",
    "    prod=str(i[0])+ \",\" +str(i[1])+ \",\" +str(i[2])+ \",\" +str(i[3])+\"\\n\"\n",
    "    lst.append(prod)\n",
    "lst[-1]=lst[-1][:-1]\n",
    "file=open('info.txt','w')\n",
    "for i in lst:\n",
    "    file.write(i)\n",
    "    \n",
    "file.close()\n",
    "\n"
   ]
  },
  {
   "cell_type": "markdown",
   "id": "4eac73e5",
   "metadata": {},
   "source": [
    "# print(product)"
   ]
  },
  {
   "cell_type": "code",
   "execution_count": null,
   "id": "08845ee7",
   "metadata": {},
   "outputs": [],
   "source": []
  },
  {
   "cell_type": "code",
   "execution_count": null,
   "id": "4f2f936e",
   "metadata": {},
   "outputs": [],
   "source": [
    "\n"
   ]
  },
  {
   "cell_type": "code",
   "execution_count": null,
   "id": "4bb6816e",
   "metadata": {},
   "outputs": [],
   "source": []
  },
  {
   "cell_type": "code",
   "execution_count": null,
   "id": "769632b0",
   "metadata": {},
   "outputs": [],
   "source": []
  }
 ],
 "metadata": {
  "kernelspec": {
   "display_name": "Python 3 (ipykernel)",
   "language": "python",
   "name": "python3"
  },
  "language_info": {
   "codemirror_mode": {
    "name": "ipython",
    "version": 3
   },
   "file_extension": ".py",
   "mimetype": "text/x-python",
   "name": "python",
   "nbconvert_exporter": "python",
   "pygments_lexer": "ipython3",
   "version": "3.11.4"
  }
 },
 "nbformat": 4,
 "nbformat_minor": 5
}
