{
 "cells": [
  {
   "cell_type": "code",
   "execution_count": null,
   "id": "38da920c",
   "metadata": {},
   "outputs": [],
   "source": []
  },
  {
   "cell_type": "code",
   "execution_count": 107,
   "id": "13a7ec6e",
   "metadata": {},
   "outputs": [
    {
     "name": "stdout",
     "output_type": "stream",
     "text": [
      "--------------------MENU---------------------\n",
      "1005 Blueberry Cake 650 3\n",
      "1004 Chocolate Cake 550 6\n",
      "1003 Candy 2 920\n",
      "1002 Bar-One 20 90\n",
      "1001 5 Star 10 188\n",
      "---------------------------------------------\n",
      "\n",
      "Enter your name    : shravya\n",
      "Enter Mail ID      : ss9599@srmist.edu.in\n",
      "Enter Phone No     : 7311423456\n",
      "Enter product ID   : 1003\n",
      "Enter Quantity     : 3\n",
      "---------------------------------------------\n",
      "\n",
      "Name      :  Candy\n",
      "Price (Rs):  2\n",
      "Quantity  :  3\n",
      "---------------------------------------------\n",
      "Billing   :  6 Rs\n",
      "---------------------------------------------\n",
      "\n",
      "---------------------------------------------\n",
      "  Thanks for your order, Inventory Updated!  \n",
      "---------------------------------------------\n"
     ]
    }
   ],
   "source": [
    "import json\n",
    "import time\n",
    "ch = 'Y'\n",
    "fd = open('Record.json','r')\n",
    "js = fd.read()\n",
    "fd.close()\n",
    "\n",
    "record = json.loads(js)\n",
    "\n",
    "print(\"--------------------MENU---------------------\")\n",
    "for key in record.keys():\n",
    "    print(key, record[key]['Name'], record[key]['Price'], record[key]['Qn'])\n",
    "print(\"---------------------------------------------\")\n",
    "print('')\n",
    "\n",
    "\n",
    "ui_name = str(input(\"Enter your name    : \"))\n",
    "ui_mail = str(input(\"Enter Mail ID      : \"))\n",
    "ui_ph   = str(input(\"Enter Phone No     : \"))\n",
    "ui_pr   = str(input(\"Enter product ID   : \"))\n",
    "ui_qn   = int(input(\"Enter Quantity     : \"))\n",
    "\n",
    "print(\"---------------------------------------------\")\n",
    "print('')\n",
    "\n",
    "if (record[ui_pr]['Qn'] >= ui_qn):\n",
    "\n",
    "    print(\"Name      : \", record[ui_pr][\"Name\"])\n",
    "    print(\"Price (Rs): \", record[ui_pr][\"Price\"])\n",
    "    print(\"Quantity  : \", ui_qn)\n",
    "    print(\"---------------------------------------------\")\n",
    "    print(\"Billing   : \", ui_qn * record[ui_pr][\"Price\"], \"Rs\")\n",
    "    print(\"---------------------------------------------\")\n",
    "\n",
    "    record[ui_pr]['Qn'] = record[ui_pr]['Qn'] - ui_qn\n",
    "    \n",
    "    sale = ui_name+\",\"+ui_mail+\",\"+ui_ph+\",\"+ui_pr+\",\"+record[ui_pr][\"Name\"]+\",\"+str(ui_qn)+\",\"+str(record[ui_pr][\"Price\"])+\",\"+str(ui_qn * record[ui_pr][\"Price\"])+\",\"+time.ctime()+\"\\n\"\n",
    "\n",
    "else:\n",
    "    \n",
    "    print(\"Sorry, We're not having enough quanity of product in our Inventory.\")\n",
    "    print(\"We're only having \" + str(record[ui_pr]['Qn']) + \" quantity.\")\n",
    "    print(\"---------------------------------------------\")\n",
    "    \n",
    "    ch == str(raw_input(\"Press Y to purchase: \"))\n",
    "    \n",
    "    if(ch == \"Y\" or ch == 'y'):\n",
    "\n",
    "        print(\"---------------------------------------------\")\n",
    "        print(\"Name      : \", record[ui_pr][\"Name\"])\n",
    "        print(\"Price (Rs): \", record[ui_pr][\"Price\"])\n",
    "        print(\"Quantity  : \", record[ui_pr]['Qn'])\n",
    "        print(\"---------------------------------------------\")\n",
    "        print(\"Billing   : \", record[ui_pr]['Qn'] * record[ui_pr][\"Price\"], \"Rs\")\n",
    "        print(\"---------------------------------------------\")\n",
    "\n",
    "        record[ui_pr]['Qn'] = 0\n",
    "        \n",
    "        sale = ui_name+\",\"+ui_mail+\",\"+ui_ph+\",\"+ui_pr+\",\"+record[ui_pr][\"Name\"]+\",\"+str(record[ui_pr]['Qn'])+\",\"+str(record[ui_pr][\"Price\"])+\",\"+str(record[ui_pr]['Qn'] * record[ui_pr][\"Price\"])+\",\"+time.ctime()+\"\\n\"\n",
    "        \n",
    "    else:\n",
    "        print(\"Thanks!\")\n",
    "        \n",
    "js = json.dumps(record)\n",
    "\n",
    "fd = open('Record.json','w')\n",
    "fd.write(js)\n",
    "fd.close()\n",
    "\n",
    "fd = open('Sales.txt','a')\n",
    "fd.write(sale)\n",
    "fd.close()\n",
    "\n",
    "print('')\n",
    "print(\"---------------------------------------------\")\n",
    "print(\"  Thanks for your order, Inventory Updated!  \")\n",
    "print(\"---------------------------------------------\")\n",
    "\n",
    "\n"
   ]
  },
  {
   "cell_type": "code",
   "execution_count": 97,
   "id": "3f20412e",
   "metadata": {},
   "outputs": [],
   "source": [
    "js=json.dumps(record)\n",
    "fd=open(\"record.json\",\"w\")\n",
    "fd.write(js)\n",
    "fd.close()"
   ]
  },
  {
   "cell_type": "code",
   "execution_count": 90,
   "id": "117e9c67",
   "metadata": {},
   "outputs": [
    {
     "data": {
      "text/plain": [
       "'{\"1000\": {\"product_name\": \"5 star\", \"product_price\": \"150\", \"product_quantity\": 27}, \"1001\": {\"product_name\": \"choclate cake\", \"product_price\": \"150\", \"product_quantity\": \"35\"}, \"1002\": {\"product_name\": \"hot chocolate\", \"product_price\": \"150\", \"product_quantity\": \"35\"}, \"1003\": {\"product_name\": \"rasberry pie\", \"product_price\": \"150\", \"product_quantity\": \"35\"}}'"
      ]
     },
     "execution_count": 90,
     "metadata": {},
     "output_type": "execute_result"
    }
   ],
   "source": [
    "js"
   ]
  },
  {
   "cell_type": "code",
   "execution_count": 60,
   "id": "616d2b7a",
   "metadata": {},
   "outputs": [],
   "source": []
  },
  {
   "cell_type": "code",
   "execution_count": null,
   "id": "f45a700d",
   "metadata": {},
   "outputs": [],
   "source": []
  }
 ],
 "metadata": {
  "kernelspec": {
   "display_name": "Python 3 (ipykernel)",
   "language": "python",
   "name": "python3"
  },
  "language_info": {
   "codemirror_mode": {
    "name": "ipython",
    "version": 3
   },
   "file_extension": ".py",
   "mimetype": "text/x-python",
   "name": "python",
   "nbconvert_exporter": "python",
   "pygments_lexer": "ipython3",
   "version": "3.11.4"
  }
 },
 "nbformat": 4,
 "nbformat_minor": 5
}
